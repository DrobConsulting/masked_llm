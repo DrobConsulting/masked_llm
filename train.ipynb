{
 "cells": [
  {
   "cell_type": "code",
   "execution_count": 5,
   "id": "419797ef-c18a-4add-a702-7ac72e8a3be7",
   "metadata": {
    "tags": []
   },
   "outputs": [],
   "source": [
    "import torch\n",
    "import torch.nn as nn\n",
    "import torch.optim as optim"
   ]
  },
  {
   "cell_type": "code",
   "execution_count": 21,
   "id": "d92c334f-56b2-43cc-a1bc-5487fdf2c9b6",
   "metadata": {
    "tags": []
   },
   "outputs": [
    {
     "name": "stdout",
     "output_type": "stream",
     "text": [
      "Using device: cuda\n"
     ]
    }
   ],
   "source": [
    "device = torch.device(\"cuda\" if torch.cuda.is_available() else \"cpu\")\n",
    "print(\"Using device:\", device)"
   ]
  },
  {
   "cell_type": "code",
   "execution_count": 23,
   "id": "9c03d941",
   "metadata": {},
   "outputs": [],
   "source": [
    "def corrupt_sequence(sequence, noise_level, vocab_size, device):\n",
    "    # Ensure we create noise and mask on the same device\n",
    "    noise = torch.randint(0, vocab_size, sequence.shape, device=device)\n",
    "    mask = torch.rand(sequence.shape, device=device) < noise_level\n",
    "    corrupted = torch.where(mask, noise, sequence)\n",
    "    return corrupted"
   ]
  },
  {
   "cell_type": "code",
   "execution_count": 16,
   "id": "0c56d011-a7ad-483d-a7ce-db9e6d86c8c4",
   "metadata": {
    "tags": []
   },
   "outputs": [],
   "source": [
    "class TransformerEncoder(nn.Module):\n",
    "    def __init__(self, vocab_size, embed_dim, num_heads, num_layers):\n",
    "        super().__init__()\n",
    "        self.embedding = nn.Embedding(vocab_size, embed_dim)\n",
    "        encoder_layer = nn.TransformerEncoderLayer(d_model=embed_dim, nhead=num_heads,batch_first=True)\n",
    "        self.encoder = nn.TransformerEncoder(encoder_layer, num_layers=num_layers)\n",
    "        self.output_layer = nn.Linear(embed_dim, vocab_size)\n",
    "\n",
    "    def forward(self, x):\n",
    "        x = self.embedding(x)  # Embed tokens\n",
    "        x = self.encoder(x)    # Pass through transformer\n",
    "        return self.output_layer(x)  # Predict clean tokens"
   ]
  },
  {
   "cell_type": "code",
   "execution_count": 17,
   "id": "fb037614-3bca-48c9-85f7-0a0a28133d5f",
   "metadata": {},
   "outputs": [],
   "source": [
    "vocab_size = 10  # digits 0-9"
   ]
  },
  {
   "cell_type": "code",
   "execution_count": 24,
   "id": "7b5368b1",
   "metadata": {},
   "outputs": [],
   "source": [
    "model = TransformerEncoder(vocab_size=vocab_size, embed_dim=256, num_heads=8, num_layers=6)\n",
    "model.to(device)\n",
    "optimizer = optim.Adam(model.parameters(), lr=1e-4)\n",
    "loss_fn = nn.CrossEntropyLoss()\n",
    "\n",
    "def train_step(clean_sequence, model, optimizer, loss_fn, vocab_size, device):\n",
    "    model.train()\n",
    "    optimizer.zero_grad()\n",
    "\n",
    "    # Move the clean sequence to the GPU (if available)\n",
    "    clean_sequence = clean_sequence.to(device)\n",
    "\n",
    "    # Generate noisy input on the same device\n",
    "    noise_level = torch.rand(1).item()\n",
    "    corrupted_sequence = corrupt_sequence(clean_sequence, noise_level, vocab_size, device)\n",
    "\n",
    "    # Forward pass\n",
    "    logits = model(corrupted_sequence)\n",
    "\n",
    "    # Compute loss\n",
    "    loss = loss_fn(logits.view(-1, vocab_size), clean_sequence.view(-1))\n",
    "\n",
    "    # Backpropagation\n",
    "    loss.backward()\n",
    "    optimizer.step()\n",
    "\n",
    "    return loss.item()"
   ]
  },
  {
   "cell_type": "code",
   "execution_count": 9,
   "id": "b941003b",
   "metadata": {},
   "outputs": [],
   "source": [
    "# Load and preprocess data\n",
    "import pandas as pd\n",
    "import numpy as np\n",
    "from sklearn.model_selection import train_test_split\n",
    "\n",
    "# Load sudoku data\n",
    "df = pd.read_csv('./data/sudoku.csv')\n",
    "\n",
    "# Convert strings to tensors\n",
    "def preprocess_sudoku(puzzle_str):\n",
    "    # Convert string to list of integers and then to tensor\n",
    "    return torch.tensor([int(d) for d in puzzle_str], dtype=torch.long)\n",
    "\n",
    "# Convert all puzzles and solutions\n",
    "puzzles = torch.stack([preprocess_sudoku(p) for p in df['quizzes']])\n",
    "solutions = torch.stack([preprocess_sudoku(s) for s in df['solutions']])\n",
    "\n",
    "# Karpathy split (90/5/5)\n",
    "train_size = 0.9\n",
    "val_size = 0.05\n",
    "test_size = 0.05\n",
    "\n",
    "# First split into train and temp\n",
    "X_train, X_temp, y_train, y_temp = train_test_split(\n",
    "    puzzles, solutions, train_size=train_size, random_state=42\n",
    ")\n",
    "\n",
    "# Split temp into val and test\n",
    "X_val, X_test, y_val, y_test = train_test_split(\n",
    "    X_temp, y_temp, test_size=0.5, random_state=42\n",
    ")\n"
   ]
  },
  {
   "cell_type": "code",
   "execution_count": 19,
   "id": "b2fa6b04",
   "metadata": {},
   "outputs": [
    {
     "data": {
      "text/plain": [
       "(tensor([8, 0, 2, 5, 0, 0, 6, 0, 0, 4, 0, 5, 1, 0, 0, 8, 9, 0, 0, 0, 0, 9, 0, 4,\n",
       "         0, 3, 0, 7, 0, 0, 3, 0, 9, 5, 0, 1, 3, 4, 0, 0, 0, 0, 7, 2, 0, 0, 8, 0,\n",
       "         0, 0, 6, 9, 0, 0, 0, 6, 3, 7, 1, 0, 4, 5, 0, 0, 0, 0, 0, 2, 0, 0, 0, 8,\n",
       "         1, 7, 0, 0, 0, 0, 3, 0, 0]),\n",
       " tensor([8, 9, 2, 5, 3, 7, 6, 1, 4, 4, 3, 5, 1, 6, 2, 8, 9, 7, 6, 1, 7, 9, 8, 4,\n",
       "         2, 3, 5, 7, 2, 6, 3, 4, 9, 5, 8, 1, 3, 4, 9, 8, 5, 1, 7, 2, 6, 5, 8, 1,\n",
       "         2, 7, 6, 9, 4, 3, 2, 6, 3, 7, 1, 8, 4, 5, 9, 9, 5, 4, 6, 2, 3, 1, 7, 8,\n",
       "         1, 7, 8, 4, 9, 5, 3, 6, 2]))"
      ]
     },
     "execution_count": 19,
     "metadata": {},
     "output_type": "execute_result"
    }
   ],
   "source": [
    "X_val[0], y_val[0]"
   ]
  },
  {
   "cell_type": "code",
   "execution_count": 20,
   "id": "bc316c5b",
   "metadata": {},
   "outputs": [
    {
     "name": "stderr",
     "output_type": "stream",
     "text": [
      "Epoch 1:   0%|          | 0/28125 [00:00<?, ?it/s]C:\\Users\\drob7\\AppData\\Local\\Packages\\PythonSoftwareFoundation.Python.3.12_qbz5n2kfra8p0\\LocalCache\\local-packages\\Python312\\site-packages\\torch\\nn\\functional.py:5476: UserWarning: 1Torch was not compiled with flash attention. (Triggered internally at ..\\aten\\src\\ATen\\native\\transformers\\cuda\\sdp_utils.cpp:263.)\n",
      "  attn_output = scaled_dot_product_attention(q, k, v, attn_mask, dropout_p, is_causal)\n",
      "Epoch 1: 100%|██████████| 28125/28125 [12:06<00:00, 38.70it/s]\n"
     ]
    },
    {
     "name": "stdout",
     "output_type": "stream",
     "text": [
      "Epoch 1:\n",
      "  Training Loss: 1.4786\n",
      "  Validation Loss: 1.4688\n"
     ]
    },
    {
     "name": "stderr",
     "output_type": "stream",
     "text": [
      "Epoch 2:  42%|████▏     | 11924/28125 [05:08<06:56, 38.93it/s]"
     ]
    }
   ],
   "source": [
    "\n",
    "# Training loop\n",
    "num_epochs = 100\n",
    "batch_size = 32\n",
    "\n",
    "\n",
    "# Create data loaders\n",
    "from torch.utils.data import TensorDataset, DataLoader\n",
    "train_dataset = TensorDataset(X_train, y_train)\n",
    "train_loader = DataLoader(train_dataset, batch_size=batch_size, shuffle=True, pin_memory=True)\n",
    "val_dataset = TensorDataset(X_val, y_val)\n",
    "val_loader = DataLoader(val_dataset, batch_size=batch_size, pin_memory=True)\n",
    "\n",
    "# Training loop with validation\n",
    "from tqdm.auto import tqdm\n",
    "\n",
    "best_val_loss = float('inf')\n",
    "for epoch in range(num_epochs):\n",
    "    # Training\n",
    "    model.train()\n",
    "    train_losses = []\n",
    "    \n",
    "    for batch_puzzles, batch_solutions in tqdm(train_loader, desc=f'Epoch {epoch+1}'):\n",
    "        # Move the solutions (clean targets) to the GPU\n",
    "        batch_solutions = batch_solutions.to(device)\n",
    "        \n",
    "        # Run a training step\n",
    "        loss = train_step(batch_solutions, model, optimizer, loss_fn, vocab_size, device)\n",
    "        train_losses.append(loss)\n",
    "    \n",
    "    avg_train_loss = sum(train_losses) / len(train_losses)\n",
    "    \n",
    "    # Validation\n",
    "    model.eval()\n",
    "    val_losses = []\n",
    "    with torch.no_grad():\n",
    "        for batch_puzzles, batch_solutions in val_loader:\n",
    "            # Move data to GPU\n",
    "            batch_solutions = batch_solutions.to(device)\n",
    "            \n",
    "            # Generate noise and pass through model\n",
    "            noise_level = torch.rand(1).item()\n",
    "            corrupted = corrupt_sequence(batch_solutions, noise_level, vocab_size, device)\n",
    "            logits = model(corrupted)\n",
    "            \n",
    "            loss = loss_fn(logits.view(-1, vocab_size), batch_solutions.view(-1))\n",
    "            val_losses.append(loss.item())\n",
    "\n",
    "    avg_val_loss = sum(val_losses) / len(val_losses)\n",
    "    \n",
    "    # Print metrics\n",
    "    print(f'Epoch {epoch+1}:')\n",
    "    print(f'  Training Loss: {avg_train_loss:.4f}')\n",
    "    print(f'  Validation Loss: {avg_val_loss:.4f}')\n",
    "    \n",
    "    # Save best model\n",
    "    if avg_val_loss < best_val_loss:\n",
    "        best_val_loss = avg_val_loss\n",
    "        torch.save(model.state_dict(), 'best_model.pt')"
   ]
  },
  {
   "cell_type": "code",
   "execution_count": null,
   "id": "f14a3ff5",
   "metadata": {},
   "outputs": [],
   "source": []
  }
 ],
 "metadata": {
  "kernelspec": {
   "display_name": "Python 3 (ipykernel)",
   "language": "python",
   "name": "python3"
  },
  "language_info": {
   "codemirror_mode": {
    "name": "ipython",
    "version": 3
   },
   "file_extension": ".py",
   "mimetype": "text/x-python",
   "name": "python",
   "nbconvert_exporter": "python",
   "pygments_lexer": "ipython3",
   "version": "3.11.5"
  }
 },
 "nbformat": 4,
 "nbformat_minor": 5
}
